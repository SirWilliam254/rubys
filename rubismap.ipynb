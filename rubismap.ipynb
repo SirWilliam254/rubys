{
 "cells": [
  {
   "cell_type": "raw",
   "id": "2f3e7e7c",
   "metadata": {
    "_cell_guid": "b1076dfc-b9ad-4769-8c92-a6c4dae69d19",
    "_uuid": "8f2839f25d086af736a60e9eeb907d3b93b6e0e5",
    "papermill": {
     "duration": 0.003311,
     "end_time": "2022-10-04T18:54:48.048488",
     "exception": false,
     "start_time": "2022-10-04T18:54:48.045177",
     "status": "completed"
    },
    "tags": []
   },
   "source": [
    "# RUBIS route sub-project"
   ]
  },
  {
   "cell_type": "code",
   "execution_count": 1,
   "id": "794cbbf6",
   "metadata": {
    "execution": {
     "iopub.execute_input": "2022-10-04T18:54:48.055228Z",
     "iopub.status.busy": "2022-10-04T18:54:48.054494Z",
     "iopub.status.idle": "2022-10-04T18:54:49.066453Z",
     "shell.execute_reply": "2022-10-04T18:54:49.065233Z"
    },
    "papermill": {
     "duration": 1.018617,
     "end_time": "2022-10-04T18:54:49.069448",
     "exception": false,
     "start_time": "2022-10-04T18:54:48.050831",
     "status": "completed"
    },
    "tags": []
   },
   "outputs": [
    {
     "name": "stderr",
     "output_type": "stream",
     "text": [
      "/opt/conda/lib/python3.7/site-packages/geopandas/_compat.py:115: UserWarning: The Shapely GEOS version (3.9.1-CAPI-1.14.2) is incompatible with the GEOS version PyGEOS was compiled with (3.10.3-CAPI-1.16.1). Conversions between both will be slow.\n",
      "  shapely_geos_version, geos_capi_version_string\n"
     ]
    }
   ],
   "source": [
    "# important libraries\n",
    "import pandas as pd\n",
    "import geopandas as gpd\n",
    "import numpy as np\n",
    "import math\n",
    "import folium \n",
    "from folium import Marker\n",
    "from folium.plugins import MarkerCluster"
   ]
  },
  {
   "cell_type": "code",
   "execution_count": 2,
   "id": "a7048f72",
   "metadata": {
    "execution": {
     "iopub.execute_input": "2022-10-04T18:54:49.076131Z",
     "iopub.status.busy": "2022-10-04T18:54:49.075725Z",
     "iopub.status.idle": "2022-10-04T18:54:49.081380Z",
     "shell.execute_reply": "2022-10-04T18:54:49.080333Z"
    },
    "papermill": {
     "duration": 0.011871,
     "end_time": "2022-10-04T18:54:49.084014",
     "exception": false,
     "start_time": "2022-10-04T18:54:49.072143",
     "status": "completed"
    },
    "tags": []
   },
   "outputs": [],
   "source": [
    "def embed_map(m, file_name):\n",
    "    from IPython.display import IFrame\n",
    "    m.save(file_name)\n",
    "    return IFrame(file_name, width='100%', height='500px')"
   ]
  },
  {
   "cell_type": "code",
   "execution_count": 3,
   "id": "401c0233",
   "metadata": {
    "execution": {
     "iopub.execute_input": "2022-10-04T18:54:49.090532Z",
     "iopub.status.busy": "2022-10-04T18:54:49.089812Z",
     "iopub.status.idle": "2022-10-04T18:54:49.129553Z",
     "shell.execute_reply": "2022-10-04T18:54:49.128365Z"
    },
    "papermill": {
     "duration": 0.045812,
     "end_time": "2022-10-04T18:54:49.132201",
     "exception": false,
     "start_time": "2022-10-04T18:54:49.086389",
     "status": "completed"
    },
    "tags": []
   },
   "outputs": [
    {
     "data": {
      "text/html": [
       "<div>\n",
       "<style scoped>\n",
       "    .dataframe tbody tr th:only-of-type {\n",
       "        vertical-align: middle;\n",
       "    }\n",
       "\n",
       "    .dataframe tbody tr th {\n",
       "        vertical-align: top;\n",
       "    }\n",
       "\n",
       "    .dataframe thead th {\n",
       "        text-align: right;\n",
       "    }\n",
       "</style>\n",
       "<table border=\"1\" class=\"dataframe\">\n",
       "  <thead>\n",
       "    <tr style=\"text-align: right;\">\n",
       "      <th></th>\n",
       "      <th>SHOP</th>\n",
       "      <th>AREA</th>\n",
       "      <th>lat</th>\n",
       "      <th>lon</th>\n",
       "    </tr>\n",
       "  </thead>\n",
       "  <tbody>\n",
       "    <tr>\n",
       "      <th>0</th>\n",
       "      <td>Rubis Express Juja</td>\n",
       "      <td>Juja town</td>\n",
       "      <td>-1.088302</td>\n",
       "      <td>37.020948</td>\n",
       "    </tr>\n",
       "    <tr>\n",
       "      <th>1</th>\n",
       "      <td>Rubis Express Kimbo</td>\n",
       "      <td>Kimbo-Thika road</td>\n",
       "      <td>-1.131148</td>\n",
       "      <td>36.981556</td>\n",
       "    </tr>\n",
       "    <tr>\n",
       "      <th>2</th>\n",
       "      <td>Rubis Express Membley</td>\n",
       "      <td>Membley</td>\n",
       "      <td>-1.170558</td>\n",
       "      <td>36.917837</td>\n",
       "    </tr>\n",
       "    <tr>\n",
       "      <th>3</th>\n",
       "      <td>Rubis Express Buruburu</td>\n",
       "      <td>Buruburu phase 1</td>\n",
       "      <td>-1.277829</td>\n",
       "      <td>36.872734</td>\n",
       "    </tr>\n",
       "    <tr>\n",
       "      <th>4</th>\n",
       "      <td>Rubis Express Ruai</td>\n",
       "      <td>Ruai</td>\n",
       "      <td>-1.259578</td>\n",
       "      <td>36.984357</td>\n",
       "    </tr>\n",
       "  </tbody>\n",
       "</table>\n",
       "</div>"
      ],
      "text/plain": [
       "                     SHOP              AREA       lat        lon\n",
       "0      Rubis Express Juja         Juja town -1.088302  37.020948\n",
       "1     Rubis Express Kimbo  Kimbo-Thika road -1.131148  36.981556\n",
       "2   Rubis Express Membley           Membley -1.170558  36.917837\n",
       "3  Rubis Express Buruburu  Buruburu phase 1 -1.277829  36.872734\n",
       "4      Rubis Express Ruai              Ruai -1.259578  36.984357"
      ]
     },
     "execution_count": 3,
     "metadata": {},
     "output_type": "execute_result"
    }
   ],
   "source": [
    "rubis = pd.read_csv(\"../input/d/eswillz/rubizs/rubis.csv\")\n",
    "rubis.head()"
   ]
  },
  {
   "cell_type": "code",
   "execution_count": 4,
   "id": "9b19d98d",
   "metadata": {
    "execution": {
     "iopub.execute_input": "2022-10-04T18:54:49.139036Z",
     "iopub.status.busy": "2022-10-04T18:54:49.138503Z",
     "iopub.status.idle": "2022-10-04T18:54:49.332196Z",
     "shell.execute_reply": "2022-10-04T18:54:49.331206Z"
    },
    "papermill": {
     "duration": 0.199902,
     "end_time": "2022-10-04T18:54:49.334748",
     "exception": false,
     "start_time": "2022-10-04T18:54:49.134846",
     "status": "completed"
    },
    "tags": []
   },
   "outputs": [
    {
     "data": {
      "text/html": [
       "\n",
       "        <iframe\n",
       "            width=\"100%\"\n",
       "            height=\"500px\"\n",
       "            src=\"rubis.html\"\n",
       "            frameborder=\"0\"\n",
       "            allowfullscreen\n",
       "            \n",
       "        ></iframe>\n",
       "        "
      ],
      "text/plain": [
       "<IPython.lib.display.IFrame at 0x7f00948e2b50>"
      ]
     },
     "execution_count": 4,
     "metadata": {},
     "output_type": "execute_result"
    }
   ],
   "source": [
    "# Create a base map\n",
    "m_1 = folium.Map(location=[-1.170558, 36.917837], zoom_start=13)\n",
    "\n",
    "# Add a marker for each location\n",
    "for idx, row in rubis.iterrows():\n",
    "    Marker([row['lat'], row['lon']], popup=row['SHOP']).add_to(m_1)\n",
    "\n",
    "\n",
    "# Show the map\n",
    "embed_map(m_1, 'rubis.html')"
   ]
  }
 ],
 "metadata": {
  "kernelspec": {
   "display_name": "Python 3",
   "language": "python",
   "name": "python3"
  },
  "language_info": {
   "codemirror_mode": {
    "name": "ipython",
    "version": 3
   },
   "file_extension": ".py",
   "mimetype": "text/x-python",
   "name": "python",
   "nbconvert_exporter": "python",
   "pygments_lexer": "ipython3",
   "version": "3.7.12"
  },
  "papermill": {
   "default_parameters": {},
   "duration": 11.223414,
   "end_time": "2022-10-04T18:54:50.058752",
   "environment_variables": {},
   "exception": null,
   "input_path": "__notebook__.ipynb",
   "output_path": "__notebook__.ipynb",
   "parameters": {},
   "start_time": "2022-10-04T18:54:38.835338",
   "version": "2.3.4"
  }
 },
 "nbformat": 4,
 "nbformat_minor": 5
}
